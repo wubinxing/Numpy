{
 "cells": [
  {
   "cell_type": "code",
   "execution_count": 89,
   "metadata": {},
   "outputs": [
    {
     "name": "stdout",
     "output_type": "stream",
     "text": [
      "(2, 3)\n"
     ]
    },
    {
     "data": {
      "text/plain": [
       "dtype('int32')"
      ]
     },
     "execution_count": 89,
     "metadata": {},
     "output_type": "execute_result"
    }
   ],
   "source": [
    "import numpy as np\n",
    "a = np.array([[1,3,4], [3,5,7]])\n",
    "print(a.shape)\n",
    "a.dtype"
   ]
  },
  {
   "cell_type": "code",
   "execution_count": 90,
   "metadata": {},
   "outputs": [
    {
     "data": {
      "text/plain": [
       "dtype('float16')"
      ]
     },
     "execution_count": 90,
     "metadata": {},
     "output_type": "execute_result"
    }
   ],
   "source": [
    "a = np.array([[1,3,4], [3,5,7]], dtype = \"f2\")\n",
    "a.dtype"
   ]
  },
  {
   "cell_type": "code",
   "execution_count": 91,
   "metadata": {},
   "outputs": [
    {
     "data": {
      "text/plain": [
       "array([[0., 0., 0., 0.],\n",
       "       [0., 0., 0., 0.],\n",
       "       [0., 0., 0., 0.]])"
      ]
     },
     "execution_count": 91,
     "metadata": {},
     "output_type": "execute_result"
    }
   ],
   "source": [
    "np.zeros([3,4])"
   ]
  },
  {
   "cell_type": "code",
   "execution_count": 92,
   "metadata": {},
   "outputs": [],
   "source": [
    "a = np.array([[1,3,5], [2,6,8]])\n",
    "a1 = np.array(a)  #a改变后a1不变\n",
    "a2 = np.asarray(a)  #a改变后a2跟着改变"
   ]
  },
  {
   "cell_type": "code",
   "execution_count": 93,
   "metadata": {},
   "outputs": [
    {
     "data": {
      "text/plain": [
       "array([[1, 3, 5],\n",
       "       [2, 6, 8]])"
      ]
     },
     "execution_count": 93,
     "metadata": {},
     "output_type": "execute_result"
    }
   ],
   "source": [
    "a1"
   ]
  },
  {
   "cell_type": "code",
   "execution_count": 94,
   "metadata": {},
   "outputs": [
    {
     "data": {
      "text/plain": [
       "array([[1, 3, 5],\n",
       "       [2, 6, 8]])"
      ]
     },
     "execution_count": 94,
     "metadata": {},
     "output_type": "execute_result"
    }
   ],
   "source": [
    "a2"
   ]
  },
  {
   "cell_type": "code",
   "execution_count": 95,
   "metadata": {},
   "outputs": [
    {
     "data": {
      "text/plain": [
       "array([[0, 0, 0],\n",
       "       [2, 6, 8]])"
      ]
     },
     "execution_count": 95,
     "metadata": {},
     "output_type": "execute_result"
    }
   ],
   "source": [
    "a[0] = 0\n",
    "a"
   ]
  },
  {
   "cell_type": "code",
   "execution_count": 96,
   "metadata": {},
   "outputs": [
    {
     "data": {
      "text/plain": [
       "array([[1, 3, 5],\n",
       "       [2, 6, 8]])"
      ]
     },
     "execution_count": 96,
     "metadata": {},
     "output_type": "execute_result"
    }
   ],
   "source": [
    "a1"
   ]
  },
  {
   "cell_type": "code",
   "execution_count": 97,
   "metadata": {},
   "outputs": [
    {
     "data": {
      "text/plain": [
       "array([[0, 0, 0],\n",
       "       [2, 6, 8]])"
      ]
     },
     "execution_count": 97,
     "metadata": {},
     "output_type": "execute_result"
    }
   ],
   "source": [
    "a2"
   ]
  },
  {
   "cell_type": "code",
   "execution_count": 98,
   "metadata": {},
   "outputs": [
    {
     "data": {
      "text/plain": [
       "array([  0.,  10.,  20.,  30.,  40.,  50.,  60.,  70.,  80.,  90., 100.])"
      ]
     },
     "execution_count": 98,
     "metadata": {},
     "output_type": "execute_result"
    }
   ],
   "source": [
    "np.linspace(0, 100, 11)  # 0至100生成等间隔的11个数字"
   ]
  },
  {
   "cell_type": "code",
   "execution_count": 99,
   "metadata": {},
   "outputs": [
    {
     "data": {
      "text/plain": [
       "array([ 0, 10, 20, 30, 40, 50, 60, 70, 80, 90])"
      ]
     },
     "execution_count": 99,
     "metadata": {},
     "output_type": "execute_result"
    }
   ],
   "source": [
    "np.arange(0, 100, 10)  #0至100步长为10生成等间隔数字"
   ]
  },
  {
   "cell_type": "code",
   "execution_count": 100,
   "metadata": {},
   "outputs": [
    {
     "data": {
      "text/plain": [
       "array([-8.88284722, -9.93783702, -3.0181734 ,  7.20937983,  0.96949415])"
      ]
     },
     "execution_count": 100,
     "metadata": {},
     "output_type": "execute_result"
    }
   ],
   "source": [
    "np.random.uniform(-10, 10, 5)  #在-10至10之间生成5个随机数"
   ]
  },
  {
   "cell_type": "code",
   "execution_count": 101,
   "metadata": {},
   "outputs": [
    {
     "data": {
      "image/png": "[encoded data removed]",
      "text/plain": [
       "<Figure size 2000x800 with 1 Axes>"
      ]
     },
     "metadata": {
      "needs_background": "light"
     },
     "output_type": "display_data"
    }
   ],
   "source": [
    "x1 = np.random.normal(1, 1, 1000000)\n",
    "import matplotlib.pyplot as plt\n",
    "plt.figure(figsize = (20, 8), dpi = 100)\n",
    "plt.hist(x1, 100)\n",
    "plt.show()"
   ]
  },
  {
   "cell_type": "markdown",
   "metadata": {},
   "source": [
    "# 数组索引、切片"
   ]
  },
  {
   "cell_type": "code",
   "execution_count": 102,
   "metadata": {},
   "outputs": [
    {
     "data": {
      "text/plain": [
       "array([[ 2.27789679,  0.90813058,  1.26370048,  0.53715375],\n",
       "       [ 2.07358806,  1.08520693,  3.83215723,  0.88858951],\n",
       "       [-0.49692822, -0.20780126,  2.07566875,  2.56770892]])"
      ]
     },
     "execution_count": 102,
     "metadata": {},
     "output_type": "execute_result"
    }
   ],
   "source": [
    "a = np.random.normal(1, 1, (3,4))\n",
    "a"
   ]
  },
  {
   "cell_type": "code",
   "execution_count": 103,
   "metadata": {},
   "outputs": [
    {
     "data": {
      "text/plain": [
       "array([2.07358806, 1.08520693])"
      ]
     },
     "execution_count": 103,
     "metadata": {},
     "output_type": "execute_result"
    }
   ],
   "source": [
    "a[1, 0:2]"
   ]
  },
  {
   "cell_type": "code",
   "execution_count": 104,
   "metadata": {},
   "outputs": [
    {
     "data": {
      "text/plain": [
       "array([[[ 1.20088499, -0.10109384],\n",
       "        [ 0.95882414,  0.19970329],\n",
       "        [ 2.45467273,  2.37702293],\n",
       "        [ 1.42963229,  1.96952293]],\n",
       "\n",
       "       [[ 2.13876279,  3.23725986],\n",
       "        [ 0.56775585, -0.03126211],\n",
       "        [ 1.12088926,  1.30955798],\n",
       "        [ 1.27545672,  0.01200263]],\n",
       "\n",
       "       [[-0.66952227, -0.05381685],\n",
       "        [ 1.39309211,  0.69869898],\n",
       "        [-0.21308602,  1.17394663],\n",
       "        [ 0.2866503 , -0.45504206]]])"
      ]
     },
     "execution_count": 104,
     "metadata": {},
     "output_type": "execute_result"
    }
   ],
   "source": [
    "a2 = np.random.normal(1, 1, (3,4,2))\n",
    "a2"
   ]
  },
  {
   "cell_type": "code",
   "execution_count": 105,
   "metadata": {},
   "outputs": [
    {
     "data": {
      "text/plain": [
       "1.3930921058659163"
      ]
     },
     "execution_count": 105,
     "metadata": {},
     "output_type": "execute_result"
    }
   ],
   "source": [
    "a2[2, 1, 0]"
   ]
  },
  {
   "cell_type": "code",
   "execution_count": 106,
   "metadata": {},
   "outputs": [
    {
     "data": {
      "text/plain": [
       "array([ 2.45467273, -0.45504206])"
      ]
     },
     "execution_count": 106,
     "metadata": {},
     "output_type": "execute_result"
    }
   ],
   "source": [
    " #取索引为(0, 2, 0) (2, 3,1)的值，两个np.array的形状一样\n",
    "a2[np.array([0,2]), np.array([2, 3]), np.array([0, 1])] "
   ]
  },
  {
   "cell_type": "code",
   "execution_count": 107,
   "metadata": {},
   "outputs": [
    {
     "data": {
      "text/plain": [
       "array([[ 2.45467273,  2.37702293],\n",
       "       [ 0.2866503 , -0.45504206]])"
      ]
     },
     "execution_count": 107,
     "metadata": {},
     "output_type": "execute_result"
    }
   ],
   "source": [
    "a2[np.array([0,2]), np.array([2, 3])]"
   ]
  },
  {
   "cell_type": "code",
   "execution_count": 110,
   "metadata": {},
   "outputs": [
    {
     "data": {
      "text/plain": [
       "array([ 1.20088499, -0.05381685])"
      ]
     },
     "execution_count": 110,
     "metadata": {},
     "output_type": "execute_result"
    }
   ],
   "source": [
    "a2[np.array([0,2]), 0, np.array([0, 1])]  #允许索引数组与标量组合"
   ]
  },
  {
   "cell_type": "markdown",
   "metadata": {},
   "source": [
    "# 形状修改"
   ]
  },
  {
   "cell_type": "code",
   "execution_count": 111,
   "metadata": {},
   "outputs": [
    {
     "data": {
      "text/plain": [
       "array([[ 1.20088499, -0.10109384,  0.95882414,  0.19970329,  2.45467273,\n",
       "         2.37702293,  1.42963229,  1.96952293],\n",
       "       [ 2.13876279,  3.23725986,  0.56775585, -0.03126211,  1.12088926,\n",
       "         1.30955798,  1.27545672,  0.01200263],\n",
       "       [-0.66952227, -0.05381685,  1.39309211,  0.69869898, -0.21308602,\n",
       "         1.17394663,  0.2866503 , -0.45504206]])"
      ]
     },
     "execution_count": 111,
     "metadata": {},
     "output_type": "execute_result"
    }
   ],
   "source": [
    "a2.reshape([3,8])"
   ]
  },
  {
   "cell_type": "code",
   "execution_count": 112,
   "metadata": {},
   "outputs": [
    {
     "data": {
      "text/plain": [
       "(array([[[ 1.20088499, -0.10109384],\n",
       "         [ 0.95882414,  0.19970329],\n",
       "         [ 2.45467273,  2.37702293],\n",
       "         [ 1.42963229,  1.96952293]],\n",
       " \n",
       "        [[ 2.13876279,  3.23725986],\n",
       "         [ 0.56775585, -0.03126211],\n",
       "         [ 1.12088926,  1.30955798],\n",
       "         [ 1.27545672,  0.01200263]],\n",
       " \n",
       "        [[-0.66952227, -0.05381685],\n",
       "         [ 1.39309211,  0.69869898],\n",
       "         [-0.21308602,  1.17394663],\n",
       "         [ 0.2866503 , -0.45504206]]]),\n",
       " (3, 4, 2))"
      ]
     },
     "execution_count": 112,
     "metadata": {},
     "output_type": "execute_result"
    }
   ],
   "source": [
    "a2.reshape(-1, 6)  # -1代表待计算\n",
    "a2, a2.shape"
   ]
  },
  {
   "cell_type": "code",
   "execution_count": 113,
   "metadata": {},
   "outputs": [
    {
     "data": {
      "text/plain": [
       "(array([[ 1.20088499, -0.10109384,  0.95882414,  0.19970329],\n",
       "        [ 2.45467273,  2.37702293,  1.42963229,  1.96952293],\n",
       "        [ 2.13876279,  3.23725986,  0.56775585, -0.03126211],\n",
       "        [ 1.12088926,  1.30955798,  1.27545672,  0.01200263],\n",
       "        [-0.66952227, -0.05381685,  1.39309211,  0.69869898],\n",
       "        [-0.21308602,  1.17394663,  0.2866503 , -0.45504206]]),\n",
       " (6, 4))"
      ]
     },
     "execution_count": 113,
     "metadata": {},
     "output_type": "execute_result"
    }
   ],
   "source": [
    "a2.resize([6,4])  #不能改变原来的数据\n",
    "a2, a2.shape\n"
   ]
  },
  {
   "cell_type": "code",
   "execution_count": 114,
   "metadata": {},
   "outputs": [
    {
     "data": {
      "text/plain": [
       "array([[ 1.20088499, -0.10109384,  0.95882414],\n",
       "       [ 0.19970329,  2.45467273,  2.37702293],\n",
       "       [ 1.42963229,  1.96952293,  2.13876279],\n",
       "       [ 3.23725986,  0.56775585, -0.03126211],\n",
       "       [ 1.12088926,  1.30955798,  1.27545672]])"
      ]
     },
     "execution_count": 114,
     "metadata": {},
     "output_type": "execute_result"
    }
   ],
   "source": [
    "a3 = np.resize(a2, (5,3))  #可以改变原来的数据\n",
    "a3"
   ]
  },
  {
   "cell_type": "code",
   "execution_count": 115,
   "metadata": {},
   "outputs": [
    {
     "data": {
      "text/plain": [
       "array([[ 1.20088499, -0.10109384,  0.95882414,  0.19970329],\n",
       "       [ 2.45467273,  2.37702293,  1.42963229,  1.96952293],\n",
       "       [ 2.13876279,  3.23725986,  0.56775585, -0.03126211],\n",
       "       [ 1.12088926,  1.30955798,  1.27545672,  0.01200263],\n",
       "       [-0.66952227, -0.05381685,  1.39309211,  0.69869898],\n",
       "       [-0.21308602,  1.17394663,  0.2866503 , -0.45504206],\n",
       "       [ 1.20088499, -0.10109384,  0.95882414,  0.19970329],\n",
       "       [ 2.45467273,  2.37702293,  1.42963229,  1.96952293],\n",
       "       [ 2.13876279,  3.23725986,  0.56775585, -0.03126211],\n",
       "       [ 1.12088926,  1.30955798,  1.27545672,  0.01200263]])"
      ]
     },
     "execution_count": 115,
     "metadata": {},
     "output_type": "execute_result"
    }
   ],
   "source": [
    "a4 = np.resize(a2, (10, 4))\n",
    "a4"
   ]
  },
  {
   "cell_type": "code",
   "execution_count": 116,
   "metadata": {},
   "outputs": [
    {
     "data": {
      "text/plain": [
       "array([[ 1.20088499, -0.10109384,  0.95882414,  0.19970329],\n",
       "       [ 2.45467273,  2.37702293,  1.42963229,  1.96952293],\n",
       "       [ 2.13876279,  3.23725986,  0.56775585, -0.03126211],\n",
       "       [ 1.12088926,  1.30955798,  1.27545672,  0.01200263],\n",
       "       [-0.66952227, -0.05381685,  1.39309211,  0.69869898],\n",
       "       [-0.21308602,  1.17394663,  0.2866503 , -0.45504206]])"
      ]
     },
     "execution_count": 116,
     "metadata": {},
     "output_type": "execute_result"
    }
   ],
   "source": [
    "a2"
   ]
  },
  {
   "cell_type": "code",
   "execution_count": 117,
   "metadata": {},
   "outputs": [
    {
     "data": {
      "text/plain": [
       "array([[ 1.20088499,  2.45467273,  2.13876279,  1.12088926, -0.66952227,\n",
       "        -0.21308602],\n",
       "       [-0.10109384,  2.37702293,  3.23725986,  1.30955798, -0.05381685,\n",
       "         1.17394663],\n",
       "       [ 0.95882414,  1.42963229,  0.56775585,  1.27545672,  1.39309211,\n",
       "         0.2866503 ],\n",
       "       [ 0.19970329,  1.96952293, -0.03126211,  0.01200263,  0.69869898,\n",
       "        -0.45504206]])"
      ]
     },
     "execution_count": 117,
     "metadata": {},
     "output_type": "execute_result"
    }
   ],
   "source": [
    "a2.T"
   ]
  },
  {
   "cell_type": "code",
   "execution_count": 118,
   "metadata": {},
   "outputs": [
    {
     "data": {
      "text/plain": [
       "array([[[[-0.24898529,  1.08159922,  1.84120397,  1.37974559],\n",
       "         [ 1.80250843, -0.9348176 ,  1.04431304,  0.76636328],\n",
       "         [ 1.23798266,  0.01382057,  1.62316094,  1.23347811]]],\n",
       "\n",
       "\n",
       "       [[[ 2.71810668, -0.54396622,  1.40893093,  1.32268955],\n",
       "         [-0.53366196,  2.35952567, -0.58577672,  1.2581395 ],\n",
       "         [-0.10815073,  0.32846841,  1.24258498,  1.98370957]]]])"
      ]
     },
     "execution_count": 118,
     "metadata": {},
     "output_type": "execute_result"
    }
   ],
   "source": [
    "b = np.random.normal(1, 1, (2,1,3,4))\n",
    "b"
   ]
  },
  {
   "cell_type": "code",
   "execution_count": 119,
   "metadata": {},
   "outputs": [
    {
     "data": {
      "text/plain": [
       "array([[[[-0.24898529,  2.71810668]],\n",
       "\n",
       "        [[ 1.80250843, -0.53366196]],\n",
       "\n",
       "        [[ 1.23798266, -0.10815073]]],\n",
       "\n",
       "\n",
       "       [[[ 1.08159922, -0.54396622]],\n",
       "\n",
       "        [[-0.9348176 ,  2.35952567]],\n",
       "\n",
       "        [[ 0.01382057,  0.32846841]]],\n",
       "\n",
       "\n",
       "       [[[ 1.84120397,  1.40893093]],\n",
       "\n",
       "        [[ 1.04431304, -0.58577672]],\n",
       "\n",
       "        [[ 1.62316094,  1.24258498]]],\n",
       "\n",
       "\n",
       "       [[[ 1.37974559,  1.32268955]],\n",
       "\n",
       "        [[ 0.76636328,  1.2581395 ]],\n",
       "\n",
       "        [[ 1.23347811,  1.98370957]]]])"
      ]
     },
     "execution_count": 119,
     "metadata": {},
     "output_type": "execute_result"
    }
   ],
   "source": [
    "b.T"
   ]
  },
  {
   "cell_type": "code",
   "execution_count": 120,
   "metadata": {},
   "outputs": [
    {
     "data": {
      "text/plain": [
       "(4, 3, 1, 2)"
      ]
     },
     "execution_count": 120,
     "metadata": {},
     "output_type": "execute_result"
    }
   ],
   "source": [
    "b.T.shape"
   ]
  },
  {
   "cell_type": "code",
   "execution_count": 121,
   "metadata": {},
   "outputs": [
    {
     "data": {
      "text/plain": [
       "dtype('float64')"
      ]
     },
     "execution_count": 121,
     "metadata": {},
     "output_type": "execute_result"
    }
   ],
   "source": [
    "b.dtype"
   ]
  },
  {
   "cell_type": "code",
   "execution_count": 122,
   "metadata": {},
   "outputs": [
    {
     "data": {
      "text/plain": [
       "(dtype('float64'), dtype('int32'))"
      ]
     },
     "execution_count": 122,
     "metadata": {},
     "output_type": "execute_result"
    }
   ],
   "source": [
    "c = b.astype(np.int32)\n",
    "b.dtype, c.dtype"
   ]
  },
  {
   "cell_type": "code",
   "execution_count": 123,
   "metadata": {},
   "outputs": [
    {
     "data": {
      "text/plain": [
       "array([[[[0, 1, 1, 1],\n",
       "         [1, 0, 1, 0],\n",
       "         [1, 0, 1, 1]]],\n",
       "\n",
       "\n",
       "       [[[2, 0, 1, 1],\n",
       "         [0, 2, 0, 1],\n",
       "         [0, 0, 1, 1]]]])"
      ]
     },
     "execution_count": 123,
     "metadata": {},
     "output_type": "execute_result"
    }
   ],
   "source": [
    "c"
   ]
  },
  {
   "cell_type": "code",
   "execution_count": 124,
   "metadata": {},
   "outputs": [
    {
     "data": {
      "text/plain": [
       "array([0, 1, 2])"
      ]
     },
     "execution_count": 124,
     "metadata": {},
     "output_type": "execute_result"
    }
   ],
   "source": [
    "np.unique(c)"
   ]
  },
  {
   "cell_type": "code",
   "execution_count": 125,
   "metadata": {},
   "outputs": [
    {
     "data": {
      "text/plain": [
       "array([[[[-0.24898529,  1.08159922,  1.84120397,  1.37974559],\n",
       "         [ 1.80250843, -0.9348176 ,  1.04431304,  0.76636328],\n",
       "         [ 1.23798266,  0.01382057,  1.62316094,  1.23347811]]],\n",
       "\n",
       "\n",
       "       [[[ 2.71810668, -0.54396622,  1.40893093,  1.32268955],\n",
       "         [-0.53366196,  2.35952567, -0.58577672,  1.2581395 ],\n",
       "         [-0.10815073,  0.32846841,  1.24258498,  1.98370957]]]])"
      ]
     },
     "execution_count": 125,
     "metadata": {},
     "output_type": "execute_result"
    }
   ],
   "source": [
    "b"
   ]
  },
  {
   "cell_type": "code",
   "execution_count": 135,
   "metadata": {},
   "outputs": [
    {
     "data": {
      "text/plain": [
       "array([[[[False,  True,  True,  True],\n",
       "         [ True, False,  True,  True],\n",
       "         [ True,  True,  True,  True]]],\n",
       "\n",
       "\n",
       "       [[[ True, False,  True,  True],\n",
       "         [False,  True, False,  True],\n",
       "         [False,  True,  True,  True]]]])"
      ]
     },
     "execution_count": 135,
     "metadata": {},
     "output_type": "execute_result"
    }
   ],
   "source": [
    "b > 0"
   ]
  },
  {
   "cell_type": "code",
   "execution_count": 136,
   "metadata": {},
   "outputs": [
    {
     "data": {
      "text/plain": [
       "array([[[[0.        , 1.08159922, 1.84120397, 1.37974559],\n",
       "         [1.80250843, 0.        , 1.04431304, 0.76636328],\n",
       "         [1.23798266, 0.01382057, 1.62316094, 1.23347811]]],\n",
       "\n",
       "\n",
       "       [[[2.71810668, 0.        , 1.40893093, 1.32268955],\n",
       "         [0.        , 2.35952567, 0.        , 1.2581395 ],\n",
       "         [0.        , 0.32846841, 1.24258498, 1.98370957]]]])"
      ]
     },
     "execution_count": 136,
     "metadata": {},
     "output_type": "execute_result"
    }
   ],
   "source": [
    "b"
   ]
  },
  {
   "cell_type": "code",
   "execution_count": 141,
   "metadata": {},
   "outputs": [
    {
     "data": {
      "text/plain": [
       "array([[[[False,  True,  True,  True],\n",
       "         [ True, False,  True,  True],\n",
       "         [ True,  True,  True,  True]]],\n",
       "\n",
       "\n",
       "       [[[ True, False,  True,  True],\n",
       "         [False,  True, False,  True],\n",
       "         [False,  True,  True,  True]]]])"
      ]
     },
     "execution_count": 141,
     "metadata": {},
     "output_type": "execute_result"
    }
   ],
   "source": [
    "#判断b的元素是否 > 0,返回与b形状相同的布尔列表\n",
    "bIndex = b > 0\n",
    "bIndex"
   ]
  },
  {
   "cell_type": "code",
   "execution_count": 163,
   "metadata": {},
   "outputs": [
    {
     "data": {
      "text/plain": [
       "(array([[False],\n",
       "        [ True]]),\n",
       " array([[[[0.        , 1.08159922, 1.84120397, 1.37974559],\n",
       "          [1.80250843, 0.        , 1.04431304, 0.76636328],\n",
       "          [1.23798266, 0.01382057, 1.62316094, 1.23347811]]],\n",
       " \n",
       " \n",
       "        [[[2.71810668, 0.        , 1.40893093, 1.32268955],\n",
       "          [0.        , 2.35952567, 0.        , 1.2581395 ],\n",
       "          [0.        , 0.32846841, 1.24258498, 1.98370957]]]]))"
      ]
     },
     "execution_count": 163,
     "metadata": {},
     "output_type": "execute_result"
    }
   ],
   "source": [
    "bIndex[:, :, 1, 1], b"
   ]
  },
  {
   "cell_type": "code",
   "execution_count": 164,
   "metadata": {},
   "outputs": [
    {
     "data": {
      "text/plain": [
       "(array([[[2.71810668, 0.        , 1.40893093, 1.32268955],\n",
       "         [0.        , 2.35952567, 0.        , 1.2581395 ],\n",
       "         [0.        , 0.32846841, 1.24258498, 1.98370957]]]),\n",
       " array([[[[2.71810668, 0.        , 1.40893093, 1.32268955],\n",
       "          [0.        , 2.35952567, 0.        , 1.2581395 ],\n",
       "          [0.        , 0.32846841, 1.24258498, 1.98370957]]]]))"
      ]
     },
     "execution_count": 164,
     "metadata": {},
     "output_type": "execute_result"
    }
   ],
   "source": [
    "#两种表达等价\n",
    "b[bIndex[:, :, 1, 1]], b[np.array([False, True])]"
   ]
  },
  {
   "cell_type": "code",
   "execution_count": 165,
   "metadata": {},
   "outputs": [
    {
     "data": {
      "text/plain": [
       "array([1.08159922, 1.84120397, 1.37974559, 1.80250843, 1.04431304,\n",
       "       0.76636328, 1.23798266, 0.01382057, 1.62316094, 1.23347811,\n",
       "       2.71810668, 1.40893093, 1.32268955, 2.35952567, 1.2581395 ,\n",
       "       0.32846841, 1.24258498, 1.98370957])"
      ]
     },
     "execution_count": 165,
     "metadata": {},
     "output_type": "execute_result"
    }
   ],
   "source": [
    "#取所有小于0为真的值\n",
    "b[b > 0]"
   ]
  },
  {
   "cell_type": "code",
   "execution_count": 166,
   "metadata": {},
   "outputs": [
    {
     "data": {
      "text/plain": [
       "array([[[[0.        , 1.08159922, 1.84120397, 1.37974559],\n",
       "         [1.80250843, 0.        , 1.04431304, 0.76636328],\n",
       "         [1.23798266, 0.01382057, 1.62316094, 1.23347811]]],\n",
       "\n",
       "\n",
       "       [[[2.71810668, 0.        , 1.40893093, 1.32268955],\n",
       "         [0.        , 2.35952567, 0.        , 1.2581395 ],\n",
       "         [0.        , 0.32846841, 1.24258498, 1.98370957]]]])"
      ]
     },
     "execution_count": 166,
     "metadata": {},
     "output_type": "execute_result"
    }
   ],
   "source": [
    "#将b中小于0的值赋0\n",
    "b[b < 0] = 0\n",
    "b"
   ]
  },
  {
   "cell_type": "code",
   "execution_count": 167,
   "metadata": {},
   "outputs": [
    {
     "data": {
      "text/plain": [
       "False"
      ]
     },
     "execution_count": 167,
     "metadata": {},
     "output_type": "execute_result"
    }
   ],
   "source": [
    "np.all(b > 0)"
   ]
  },
  {
   "cell_type": "code",
   "execution_count": 168,
   "metadata": {},
   "outputs": [
    {
     "data": {
      "text/plain": [
       "False"
      ]
     },
     "execution_count": 168,
     "metadata": {},
     "output_type": "execute_result"
    }
   ],
   "source": [
    "np.any(b < 0)"
   ]
  },
  {
   "cell_type": "code",
   "execution_count": 169,
   "metadata": {},
   "outputs": [
    {
     "data": {
      "text/plain": [
       "True"
      ]
     },
     "execution_count": 169,
     "metadata": {},
     "output_type": "execute_result"
    }
   ],
   "source": [
    "np.any(b[0, 0, 0, 1:3] > 0)"
   ]
  },
  {
   "cell_type": "code",
   "execution_count": 170,
   "metadata": {},
   "outputs": [
    {
     "data": {
      "text/plain": [
       "array([[[[0, 1, 1, 1],\n",
       "         [1, 0, 1, 1],\n",
       "         [1, 1, 1, 1]]],\n",
       "\n",
       "\n",
       "       [[[1, 0, 1, 1],\n",
       "         [0, 1, 0, 1],\n",
       "         [0, 1, 1, 1]]]])"
      ]
     },
     "execution_count": 170,
     "metadata": {},
     "output_type": "execute_result"
    }
   ],
   "source": [
    "np.where(b > 0, 1, 0)"
   ]
  },
  {
   "cell_type": "code",
   "execution_count": 171,
   "metadata": {},
   "outputs": [
    {
     "data": {
      "text/plain": [
       "array([[[[0, 0, 0, 0],\n",
       "         [0, 0, 0, 0],\n",
       "         [0, 1, 0, 0]]],\n",
       "\n",
       "\n",
       "       [[[0, 0, 0, 0],\n",
       "         [0, 0, 0, 0],\n",
       "         [0, 0, 0, 0]]]])"
      ]
     },
     "execution_count": 171,
     "metadata": {},
     "output_type": "execute_result"
    }
   ],
   "source": [
    "np.where(np.logical_and(b > 0, b < 0.3), 1, 0)"
   ]
  },
  {
   "cell_type": "code",
   "execution_count": 172,
   "metadata": {},
   "outputs": [
    {
     "data": {
      "text/plain": [
       "array([[[[1, 1, 1, 1],\n",
       "         [1, 1, 1, 1],\n",
       "         [1, 1, 1, 1]]],\n",
       "\n",
       "\n",
       "       [[[1, 1, 1, 1],\n",
       "         [1, 1, 1, 1],\n",
       "         [1, 0, 1, 1]]]])"
      ]
     },
     "execution_count": 172,
     "metadata": {},
     "output_type": "execute_result"
    }
   ],
   "source": [
    "np.where(np.logical_or(b < 0.2, b > 0.5), 1, 0)"
   ]
  },
  {
   "cell_type": "code",
   "execution_count": 173,
   "metadata": {},
   "outputs": [
    {
     "data": {
      "text/plain": [
       "(array([[[[0.        , 1.08159922, 1.84120397, 1.37974559],\n",
       "          [1.80250843, 0.        , 1.04431304, 0.76636328],\n",
       "          [1.23798266, 0.01382057, 1.62316094, 1.23347811]]],\n",
       " \n",
       " \n",
       "        [[[2.71810668, 0.        , 1.40893093, 1.32268955],\n",
       "          [0.        , 2.35952567, 0.        , 1.2581395 ],\n",
       "          [0.        , 0.32846841, 1.24258498, 1.98370957]]]]),\n",
       " (2, 1, 3, 4))"
      ]
     },
     "execution_count": 173,
     "metadata": {},
     "output_type": "execute_result"
    }
   ],
   "source": [
    "b, b.shape"
   ]
  },
  {
   "cell_type": "code",
   "execution_count": 174,
   "metadata": {},
   "outputs": [
    {
     "data": {
      "text/plain": [
       "(array([[[2.71810668, 1.08159922, 1.84120397, 1.37974559],\n",
       "         [1.80250843, 2.35952567, 1.04431304, 1.2581395 ],\n",
       "         [1.23798266, 0.32846841, 1.62316094, 1.98370957]]]),\n",
       " array([[[0.75279679, 0.50664464, 0.33626094, 0.26158242]],\n",
       " \n",
       "        [[1.28132778, 1.04352216, 0.62864712, 0.32788312]]]),\n",
       " array([[[1.01349703, 0.36513993, 1.50289265, 1.12652899]],\n",
       " \n",
       "        [[0.90603556, 0.89599802, 0.88383864, 1.52151287]]]),\n",
       " array([[[1, 0, 0, 0]],\n",
       " \n",
       "        [[0, 1, 0, 2]]], dtype=int64))"
      ]
     },
     "execution_count": 174,
     "metadata": {},
     "output_type": "execute_result"
    }
   ],
   "source": [
    "bb = np.max(b, axis = 0)\n",
    "cc = np.std(b, axis = 2)  #标准差\n",
    "dd = np.mean(b, axis = 2) #平均值\n",
    "ee = np.argmax(b, axis = 2)  #返回该维度下最大值的索引\n",
    "bb, cc, dd, ee"
   ]
  },
  {
   "cell_type": "code",
   "execution_count": 175,
   "metadata": {},
   "outputs": [
    {
     "data": {
      "text/plain": [
       "(2, 1, 3, 4)"
      ]
     },
     "execution_count": 175,
     "metadata": {},
     "output_type": "execute_result"
    }
   ],
   "source": [
    "b.shape"
   ]
  },
  {
   "cell_type": "code",
   "execution_count": 177,
   "metadata": {},
   "outputs": [
    {
     "data": {
      "text/plain": [
       "(2, 1, 1, 3, 4)"
      ]
     },
     "execution_count": 177,
     "metadata": {},
     "output_type": "execute_result"
    }
   ],
   "source": [
    "#np.newaxis增加维度\n",
    "b[:, np.newaxis, :, :].shape"
   ]
  },
  {
   "cell_type": "code",
   "execution_count": 181,
   "metadata": {},
   "outputs": [
    {
     "data": {
      "text/plain": [
       "(array([[1.40893093, 0.        , 1.24258498]]),\n",
       " array([[[1.84120397, 1.04431304, 1.62316094]],\n",
       " \n",
       "        [[1.40893093, 0.        , 1.24258498]]]),\n",
       " array([[[2.71810668, 0.        , 1.40893093, 1.32268955],\n",
       "         [0.        , 2.35952567, 0.        , 1.2581395 ],\n",
       "         [0.        , 0.32846841, 1.24258498, 1.98370957]]]))"
      ]
     },
     "execution_count": 181,
     "metadata": {},
     "output_type": "execute_result"
    }
   ],
   "source": [
    "#……代表选择任何剩余的未指定维度\n",
    "b[1, ..., 2], b[ ..., 2], b[1, ...]"
   ]
  },
  {
   "cell_type": "markdown",
   "metadata": {},
   "source": [
    "# 广播"
   ]
  },
  {
   "cell_type": "code",
   "execution_count": 192,
   "metadata": {},
   "outputs": [],
   "source": [
    "x = np.arange(4)\n",
    "xx = x.reshape(4,1)\n",
    "y = np.ones(5)\n",
    "z = np.ones((3, 4))"
   ]
  },
  {
   "cell_type": "code",
   "execution_count": 194,
   "metadata": {},
   "outputs": [
    {
     "ename": "ValueError",
     "evalue": "operands could not be broadcast together with shapes (4,) (5,) ",
     "output_type": "error",
     "traceback": [
      "\u001b[1;31m---------------------------------------------------------------------------\u001b[0m",
      "\u001b[1;31mValueError\u001b[0m                                Traceback (most recent call last)",
      "\u001b[1;32m<ipython-input-194-cd60f97aa77f>\u001b[0m in \u001b[0;36m<module>\u001b[1;34m\u001b[0m\n\u001b[1;32m----> 1\u001b[1;33m \u001b[0mx\u001b[0m \u001b[1;33m+\u001b[0m \u001b[0my\u001b[0m\u001b[1;33m\u001b[0m\u001b[1;33m\u001b[0m\u001b[0m\n\u001b[0m",
      "\u001b[1;31mValueError\u001b[0m: operands could not be broadcast together with shapes (4,) (5,) "
     ]
    }
   ],
   "source": [
    "x + y"
   ]
  },
  {
   "cell_type": "code",
   "execution_count": 195,
   "metadata": {},
   "outputs": [
    {
     "data": {
      "text/plain": [
       "array([[1., 1., 1., 1., 1.],\n",
       "       [2., 2., 2., 2., 2.],\n",
       "       [3., 3., 3., 3., 3.],\n",
       "       [4., 4., 4., 4., 4.]])"
      ]
     },
     "execution_count": 195,
     "metadata": {},
     "output_type": "execute_result"
    }
   ],
   "source": [
    "xx + y"
   ]
  },
  {
   "cell_type": "code",
   "execution_count": 197,
   "metadata": {},
   "outputs": [
    {
     "data": {
      "text/plain": [
       "array([[0, 1, 2, 3],\n",
       "       [1, 2, 3, 4],\n",
       "       [2, 3, 4, 5],\n",
       "       [3, 4, 5, 6]])"
      ]
     },
     "execution_count": 197,
     "metadata": {},
     "output_type": "execute_result"
    }
   ],
   "source": [
    "x+xx"
   ]
  },
  {
   "cell_type": "code",
   "execution_count": 199,
   "metadata": {},
   "outputs": [
    {
     "data": {
      "text/plain": [
       "array([[1., 2., 3., 4.],\n",
       "       [1., 2., 3., 4.],\n",
       "       [1., 2., 3., 4.]])"
      ]
     },
     "execution_count": 199,
     "metadata": {},
     "output_type": "execute_result"
    }
   ],
   "source": [
    "x+z"
   ]
  },
  {
   "cell_type": "code",
   "execution_count": 205,
   "metadata": {},
   "outputs": [
    {
     "data": {
      "text/plain": [
       "array([[ 1.,  2.,  3.],\n",
       "       [11., 12., 13.],\n",
       "       [21., 22., 23.],\n",
       "       [31., 32., 33.]])"
      ]
     },
     "execution_count": 205,
     "metadata": {},
     "output_type": "execute_result"
    }
   ],
   "source": [
    "a = np.array([0.0, 10.0, 20.0, 30.0])\n",
    "b = np.array([1.0, 2.0, 3.0])\n",
    "a[:, np.newaxis] + b"
   ]
  },
  {
   "cell_type": "code",
   "execution_count": null,
   "metadata": {},
   "outputs": [],
   "source": []
  }
 ],
 "metadata": {
  "kernelspec": {
   "display_name": "Python 3",
   "language": "python",
   "name": "python3"
  },
  "language_info": {
   "codemirror_mode": {
    "name": "ipython",
    "version": 3
   },
   "file_extension": ".py",
   "mimetype": "text/x-python",
   "name": "python",
   "nbconvert_exporter": "python",
   "pygments_lexer": "ipython3",
   "version": "3.7.1"
  }
 },
 "nbformat": 4,
 "nbformat_minor": 4
}
